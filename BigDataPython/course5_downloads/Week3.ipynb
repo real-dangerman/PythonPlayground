{
 "cells": [
  {
   "cell_type": "code",
   "execution_count": 2,
   "metadata": {},
   "outputs": [
    {
     "data": {
      "text/plain": [
       "0.5151515151515151"
      ]
     },
     "execution_count": 2,
     "metadata": {},
     "output_type": "execute_result"
    }
   ],
   "source": [
    "import networkx as nx\n",
    "\n",
    "# most connections\n",
    "G = nx.karate_club_graph()\n",
    "G = nx.convert_node_labels_to_integers(G,first_label=1)\n",
    "degCent = nx.degree_centrality(G)\n",
    "degCent[34]"
   ]
  },
  {
   "cell_type": "code",
   "execution_count": 2,
   "metadata": {
    "collapsed": true
   },
   "outputs": [
    {
     "ename": "NetworkXError",
     "evalue": "in_degree_centrality() not defined for undirected graphs.",
     "output_type": "error",
     "traceback": [
      "\u001b[0;31m---------------------------------------------------------------------------\u001b[0m",
      "\u001b[0;31mNetworkXError\u001b[0m                             Traceback (most recent call last)",
      "\u001b[0;32m<ipython-input-2-d17ac0922fe7>\u001b[0m in \u001b[0;36m<module>\u001b[0;34m()\u001b[0m\n\u001b[1;32m      1\u001b[0m \u001b[1;31m# most connections in/out in directed graphs\u001b[0m\u001b[1;33m\u001b[0m\u001b[1;33m\u001b[0m\u001b[0m\n\u001b[0;32m----> 2\u001b[0;31m \u001b[0mindegCent\u001b[0m \u001b[1;33m=\u001b[0m \u001b[0mnx\u001b[0m\u001b[1;33m.\u001b[0m\u001b[0min_degree_centrality\u001b[0m\u001b[1;33m(\u001b[0m\u001b[0mG\u001b[0m\u001b[1;33m)\u001b[0m\u001b[1;33m\u001b[0m\u001b[0m\n\u001b[0m\u001b[1;32m      3\u001b[0m \u001b[0mindegCent\u001b[0m\u001b[1;33m[\u001b[0m\u001b[1;34m'A'\u001b[0m\u001b[1;33m]\u001b[0m\u001b[1;33m\u001b[0m\u001b[0m\n\u001b[1;32m      4\u001b[0m \u001b[0moutDeg\u001b[0m \u001b[1;33m=\u001b[0m \u001b[0mnx\u001b[0m\u001b[1;33m.\u001b[0m\u001b[0mout_degree_centrality\u001b[0m\u001b[1;33m(\u001b[0m\u001b[0mG\u001b[0m\u001b[1;33m)\u001b[0m\u001b[1;33m\u001b[0m\u001b[0m\n\u001b[1;32m      5\u001b[0m \u001b[0moutDeg\u001b[0m\u001b[1;33m[\u001b[0m\u001b[1;34m'A'\u001b[0m\u001b[1;33m]\u001b[0m\u001b[1;33m\u001b[0m\u001b[0m\n",
      "\u001b[0;32mC:\\Program Files\\Anaconda3\\lib\\site-packages\\networkx\\algorithms\\centrality\\degree_alg.py\u001b[0m in \u001b[0;36min_degree_centrality\u001b[0;34m(G)\u001b[0m\n\u001b[1;32m     89\u001b[0m     \u001b[1;32mif\u001b[0m \u001b[1;32mnot\u001b[0m \u001b[0mG\u001b[0m\u001b[1;33m.\u001b[0m\u001b[0mis_directed\u001b[0m\u001b[1;33m(\u001b[0m\u001b[1;33m)\u001b[0m\u001b[1;33m:\u001b[0m\u001b[1;33m\u001b[0m\u001b[0m\n\u001b[1;32m     90\u001b[0m         raise nx.NetworkXError(\\\n\u001b[0;32m---> 91\u001b[0;31m             \"in_degree_centrality() not defined for undirected graphs.\")\n\u001b[0m\u001b[1;32m     92\u001b[0m     \u001b[0mcentrality\u001b[0m\u001b[1;33m=\u001b[0m\u001b[1;33m{\u001b[0m\u001b[1;33m}\u001b[0m\u001b[1;33m\u001b[0m\u001b[0m\n\u001b[1;32m     93\u001b[0m     \u001b[0ms\u001b[0m\u001b[1;33m=\u001b[0m\u001b[1;36m1.0\u001b[0m\u001b[1;33m/\u001b[0m\u001b[1;33m(\u001b[0m\u001b[0mlen\u001b[0m\u001b[1;33m(\u001b[0m\u001b[0mG\u001b[0m\u001b[1;33m)\u001b[0m\u001b[1;33m-\u001b[0m\u001b[1;36m1.0\u001b[0m\u001b[1;33m)\u001b[0m\u001b[1;33m\u001b[0m\u001b[0m\n",
      "\u001b[0;31mNetworkXError\u001b[0m: in_degree_centrality() not defined for undirected graphs."
     ]
    }
   ],
   "source": [
    "# most connections in/out in directed graphs\n",
    "indegCent = nx.in_degree_centrality(G)\n",
    "indegCent['A']\n",
    "outDeg = nx.out_degree_centrality(G)\n",
    "outDeg['A']"
   ]
  },
  {
   "cell_type": "code",
   "execution_count": 3,
   "metadata": {},
   "outputs": [
    {
     "data": {
      "text/plain": [
       "0.5409836065573771"
      ]
     },
     "execution_count": 3,
     "metadata": {},
     "output_type": "execute_result"
    }
   ],
   "source": [
    "# closesness to other nodes\n",
    "closeCent = nx.closeness_centrality(G)\n",
    "closeCent[32]"
   ]
  },
  {
   "cell_type": "code",
   "execution_count": 4,
   "metadata": {},
   "outputs": [
    {
     "data": {
      "text/plain": [
       "0.5409836065573771"
      ]
     },
     "execution_count": 4,
     "metadata": {},
     "output_type": "execute_result"
    }
   ],
   "source": [
    "# denominator\n",
    "sum(nx.shortest_path_length(G,32).values())\n",
    "# and full calc of closeness\n",
    "(len(G.nodes())-1)/61"
   ]
  },
  {
   "cell_type": "code",
   "execution_count": 5,
   "metadata": {
    "collapsed": true
   },
   "outputs": [],
   "source": [
    "# disconnected nodes\n",
    "# multiply by fraction of nodes that can be reached\n",
    "closeCent = nx.closeness_centrality(G,normalized=True)"
   ]
  },
  {
   "cell_type": "code",
   "execution_count": 6,
   "metadata": {},
   "outputs": [
    {
     "data": {
      "text/plain": [
       "[(1, 0.43763528138528146),\n",
       " (34, 0.30407497594997596),\n",
       " (33, 0.14524711399711399),\n",
       " (3, 0.14365680615680618),\n",
       " (32, 0.13827561327561325)]"
      ]
     },
     "execution_count": 6,
     "metadata": {},
     "output_type": "execute_result"
    }
   ],
   "source": [
    "# important nodes connect other nodes, in many paths between node a and b\n",
    "# involving the \"between-node\" as endpoint adds to the value\n",
    "\n",
    "btwnCent = nx.betweenness_centrality(G,normalized=True,endpoints=False)\n",
    "import operator\n",
    "# 5 largest values\n",
    "sorted(btwnCent.items(),key=operator.itemgetter(1),reverse=True)[0:5]"
   ]
  },
  {
   "cell_type": "code",
   "execution_count": 7,
   "metadata": {},
   "outputs": [
    {
     "data": {
      "text/plain": [
       "[(1, 0.3931786616161616),\n",
       " (3, 0.19394841269841268),\n",
       " (34, 0.19128066378066377),\n",
       " (32, 0.10075351731601731),\n",
       " (33, 0.0876830808080808)]"
      ]
     },
     "execution_count": 7,
     "metadata": {},
     "output_type": "execute_result"
    }
   ],
   "source": [
    "# between centrality approx, k - number of nodes to be looked at\n",
    "btwnCent_Approx = nx.betweenness_centrality(G,normalized=True,endpoints=False, k=10)\n",
    "sorted(btwnCent_Approx.items(),key=operator.itemgetter(1),reverse=True)[0:5]"
   ]
  },
  {
   "cell_type": "code",
   "execution_count": 8,
   "metadata": {},
   "outputs": [
    {
     "data": {
      "text/plain": [
       "[(1, 0.04946864478114479),\n",
       " (34, 0.026304713804713806),\n",
       " (33, 0.01944294131794132),\n",
       " (9, 0.014812560125060128),\n",
       " (32, 0.014519450456950456)]"
      ]
     },
     "execution_count": 8,
     "metadata": {},
     "output_type": "execute_result"
    }
   ],
   "source": [
    "btwnCent_subset = nx.betweenness_centrality_subset(G,[34,33,21,30,16,27,15,23,12],[1,3,13,11,6,12,17,7],normalized=True)\n",
    "\n",
    "sorted(btwnCent_subset.items(),key=operator.itemgetter(1),reverse=True)[0:5]"
   ]
  },
  {
   "cell_type": "code",
   "execution_count": 9,
   "metadata": {},
   "outputs": [
    {
     "data": {
      "text/plain": [
       "[((1, 32), 0.12725999490705373),\n",
       " ((1, 7), 0.07813428401663694),\n",
       " ((1, 6), 0.07813428401663694),\n",
       " ((1, 3), 0.0777876807288572),\n",
       " ((1, 9), 0.07423959482783014)]"
      ]
     },
     "execution_count": 9,
     "metadata": {},
     "output_type": "execute_result"
    }
   ],
   "source": [
    "# betweeness centralitiy edges\n",
    "btwnCent_edge = nx.edge_betweenness_centrality(G,normalized=True)\n",
    "sorted(btwnCent_edge.items(),key=operator.itemgetter(1),reverse=True)[0:5]"
   ]
  },
  {
   "cell_type": "code",
   "execution_count": 10,
   "metadata": {},
   "outputs": [
    {
     "data": {
      "text/plain": [
       "[((1, 32), 0.01366536513595337),\n",
       " ((1, 9), 0.01366536513595337),\n",
       " ((14, 34), 0.012207509266332794),\n",
       " ((1, 3), 0.01211343123107829),\n",
       " ((1, 7), 0.012032085561497326)]"
      ]
     },
     "execution_count": 10,
     "metadata": {},
     "output_type": "execute_result"
    }
   ],
   "source": [
    "btwnCent_edge_subset = nx.edge_betweenness_centrality_subset(G,[34,33,21,30,16,27,15,23,10],[1,4,13,11,6,12,17,7],normalized=True)\n",
    "sorted(btwnCent_edge_subset.items(),key=operator.itemgetter(1),reverse=True)[0:5]"
   ]
  },
  {
   "cell_type": "code",
   "execution_count": 3,
   "metadata": {},
   "outputs": [
    {
     "data": {
      "text/plain": [
       "{1: 0.09456117898156402,\n",
       " 2: 0.05152334607950815,\n",
       " 3: 0.05510962827358582,\n",
       " 4: 0.03520686871052657,\n",
       " 5: 0.022556530085318473,\n",
       " 6: 0.02965434765152121,\n",
       " 7: 0.02965434765152121,\n",
       " 8: 0.02429306613631948,\n",
       " 9: 0.029203590410895465,\n",
       " 10: 0.014918270732782356,\n",
       " 11: 0.022556530085318473,\n",
       " 12: 0.010610337618460166,\n",
       " 13: 0.015304584795945321,\n",
       " 14: 0.028920243421725694,\n",
       " 15: 0.015180200879547068,\n",
       " 16: 0.015180200879547068,\n",
       " 17: 0.01774436545128434,\n",
       " 18: 0.01519007845263465,\n",
       " 19: 0.015180200879547068,\n",
       " 20: 0.019817255738040863,\n",
       " 21: 0.015180200879547068,\n",
       " 22: 0.01519007845263465,\n",
       " 23: 0.015180200879547068,\n",
       " 24: 0.03138523208020211,\n",
       " 25: 0.021678994504154954,\n",
       " 26: 0.021582293035938838,\n",
       " 27: 0.015815184517974507,\n",
       " 28: 0.02572094617382946,\n",
       " 29: 0.019815535386497624,\n",
       " 30: 0.026528036905982717,\n",
       " 31: 0.024432622368453834,\n",
       " 32: 0.03672846196415318,\n",
       " 33: 0.07006405452640968,\n",
       " 34: 0.09833298540908077}"
      ]
     },
     "execution_count": 3,
     "metadata": {},
     "output_type": "execute_result"
    }
   ],
   "source": [
    "nx.pagerank(G,alpha=0.8) # alpha - dampening factor for random walk"
   ]
  },
  {
   "cell_type": "code",
   "execution_count": 12,
   "metadata": {
    "collapsed": true
   },
   "outputs": [
    {
     "data": {
      "text/plain": [
       "({1: 0.07141272875773574,\n",
       "  2: 0.053427231205172614,\n",
       "  3: 0.06371906453963268,\n",
       "  4: 0.04242273710428975,\n",
       "  5: 0.01526095969815266,\n",
       "  6: 0.01596691349441855,\n",
       "  7: 0.01596691349441855,\n",
       "  8: 0.03434316720679744,\n",
       "  9: 0.04568192513080631,\n",
       "  10: 0.020625667757182626,\n",
       "  11: 0.01526095969815266,\n",
       "  12: 0.01061789150852051,\n",
       "  13: 0.01692545078543599,\n",
       "  14: 0.045494864066005475,\n",
       "  15: 0.020370345842716072,\n",
       "  16: 0.020370345842716072,\n",
       "  17: 0.004748031841562519,\n",
       "  18: 0.01856163703190736,\n",
       "  19: 0.020370345842716072,\n",
       "  20: 0.02971333389111539,\n",
       "  21: 0.020370345842716072,\n",
       "  22: 0.01856163703190736,\n",
       "  23: 0.020370345842716072,\n",
       "  24: 0.030156497528902447,\n",
       "  25: 0.011460952230139867,\n",
       "  26: 0.011893664396093679,\n",
       "  27: 0.015182734341447209,\n",
       "  28: 0.026813494127083632,\n",
       "  29: 0.0263315057833753,\n",
       "  30: 0.02711153964642487,\n",
       "  31: 0.03510623798827734,\n",
       "  32: 0.038375741880478334,\n",
       "  33: 0.06200184647463985,\n",
       "  34: 0.07500294214634277},\n",
       " {1: 0.07141272880870855,\n",
       "  2: 0.053427231228704006,\n",
       "  3: 0.06371906455587137,\n",
       "  4: 0.04242273710611525,\n",
       "  5: 0.015260959692251745,\n",
       "  6: 0.015966913487697854,\n",
       "  7: 0.015966913487697854,\n",
       "  8: 0.034343167196785686,\n",
       "  9: 0.04568192511376612,\n",
       "  10: 0.02062566774700424,\n",
       "  11: 0.015260959692251745,\n",
       "  12: 0.010617891499780773,\n",
       "  13: 0.016925450777611123,\n",
       "  14: 0.045494864044925934,\n",
       "  15: 0.02037034582705704,\n",
       "  16: 0.02037034582705704,\n",
       "  17: 0.004748031844529443,\n",
       "  18: 0.01856163702009135,\n",
       "  19: 0.02037034582705704,\n",
       "  20: 0.02971333386823161,\n",
       "  21: 0.02037034582705704,\n",
       "  22: 0.01856163702009135,\n",
       "  23: 0.02037034582705704,\n",
       "  24: 0.030156497522138854,\n",
       "  25: 0.011460952243147787,\n",
       "  26: 0.011893664411194169,\n",
       "  27: 0.015182734336172114,\n",
       "  28: 0.026813494122100573,\n",
       "  29: 0.026331505783102067,\n",
       "  30: 0.027111539640980654,\n",
       "  31: 0.0351062379780833,\n",
       "  32: 0.03837574185646308,\n",
       "  33: 0.0620018465355056,\n",
       "  34: 0.07500294224371071})"
      ]
     },
     "execution_count": 12,
     "metadata": {},
     "output_type": "execute_result"
    }
   ],
   "source": [
    "nx.hits(G)"
   ]
  },
  {
   "cell_type": "code",
   "execution_count": null,
   "metadata": {
    "collapsed": true
   },
   "outputs": [],
   "source": []
  }
 ],
 "metadata": {
  "anaconda-cloud": {},
  "kernelspec": {
   "display_name": "Python [conda root]",
   "language": "python",
   "name": "conda-root-py"
  },
  "language_info": {
   "codemirror_mode": {
    "name": "ipython",
    "version": 3
   },
   "file_extension": ".py",
   "mimetype": "text/x-python",
   "name": "python",
   "nbconvert_exporter": "python",
   "pygments_lexer": "ipython3",
   "version": "3.5.4"
  }
 },
 "nbformat": 4,
 "nbformat_minor": 1
}
